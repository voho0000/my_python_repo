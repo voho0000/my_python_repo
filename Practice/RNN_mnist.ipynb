{
 "cells": [
  {
   "cell_type": "code",
   "execution_count": 1,
   "metadata": {},
   "outputs": [],
   "source": [
    "import torch\n",
    "from torch import nn\n",
    "from torch.autograd import Variable\n",
    "import torchvision.datasets as dsets\n",
    "import torchvision.transforms as transforms\n",
    "import matplotlib.pyplot as plt\n",
    "%matplotlib inline"
   ]
  },
  {
   "cell_type": "code",
   "execution_count": 2,
   "metadata": {},
   "outputs": [
    {
     "data": {
      "text/plain": [
       "<torch._C.Generator at 0x251f78b4430>"
      ]
     },
     "execution_count": 2,
     "metadata": {},
     "output_type": "execute_result"
    }
   ],
   "source": [
    "torch.manual_seed(1)    # reproducible"
   ]
  },
  {
   "cell_type": "code",
   "execution_count": 4,
   "metadata": {},
   "outputs": [],
   "source": [
    "# Hyper Parameters\n",
    "EPOCH = 1               # train the training data n times, to save time, we just train 1 epoch\n",
    "BATCH_SIZE = 64\n",
    "TIME_STEP = 28          # rnn time step / image height\n",
    "INPUT_SIZE = 28         # rnn input size / image width\n",
    "LR = 0.01               # learning rate\n",
    "DOWNLOAD_MNIST = False   # set to True if haven't download the data"
   ]
  },
  {
   "cell_type": "code",
   "execution_count": 5,
   "metadata": {},
   "outputs": [],
   "source": [
    "# Mnist digital dataset\n",
    "train_data = dsets.MNIST(\n",
    "    root='./mnist/',\n",
    "    train=True,                         # this is training data\n",
    "    transform=transforms.ToTensor(),    # Converts a PIL.Image or numpy.ndarray to\n",
    "                                        # torch.FloatTensor of shape (C x H x W) and normalize in the range [0.0, 1.0]\n",
    "    download=DOWNLOAD_MNIST,            # download it if you don't have it\n",
    ")"
   ]
  },
  {
   "cell_type": "code",
   "execution_count": 6,
   "metadata": {},
   "outputs": [
    {
     "name": "stderr",
     "output_type": "stream",
     "text": [
      "C:\\Users\\voho0\\Anaconda3\\lib\\site-packages\\torchvision\\datasets\\mnist.py:53: UserWarning: train_data has been renamed data\n",
      "  warnings.warn(\"train_data has been renamed data\")\n"
     ]
    },
    {
     "name": "stdout",
     "output_type": "stream",
     "text": [
      "torch.Size([60000, 28, 28])\n"
     ]
    },
    {
     "name": "stderr",
     "output_type": "stream",
     "text": [
      "C:\\Users\\voho0\\Anaconda3\\lib\\site-packages\\torchvision\\datasets\\mnist.py:43: UserWarning: train_labels has been renamed targets\n",
      "  warnings.warn(\"train_labels has been renamed targets\")\n"
     ]
    },
    {
     "name": "stdout",
     "output_type": "stream",
     "text": [
      "torch.Size([60000])\n"
     ]
    },
    {
     "data": {
      "image/png": "[encoded data removed]",
      "text/plain": [
       "<Figure size 432x288 with 1 Axes>"
      ]
     },
     "metadata": {
      "needs_background": "light"
     },
     "output_type": "display_data"
    }
   ],
   "source": [
    "# plot one example\n",
    "print(train_data.train_data.size())     # (60000, 28, 28)\n",
    "print(train_data.train_labels.size())   # (60000)\n",
    "plt.imshow(train_data.train_data[0].numpy(), cmap='gray')\n",
    "plt.title('%i' % train_data.train_labels[0])\n",
    "plt.show()"
   ]
  },
  {
   "cell_type": "code",
   "execution_count": 7,
   "metadata": {},
   "outputs": [],
   "source": [
    "# Data Loader for easy mini-batch return in training\n",
    "train_loader = torch.utils.data.DataLoader(dataset=train_data, batch_size=BATCH_SIZE, shuffle=True)"
   ]
  },
  {
   "cell_type": "code",
   "execution_count": 8,
   "metadata": {},
   "outputs": [
    {
     "name": "stderr",
     "output_type": "stream",
     "text": [
      "C:\\Users\\voho0\\Anaconda3\\lib\\site-packages\\torchvision\\datasets\\mnist.py:58: UserWarning: test_data has been renamed data\n",
      "  warnings.warn(\"test_data has been renamed data\")\n",
      "C:\\Users\\voho0\\Anaconda3\\lib\\site-packages\\ipykernel_launcher.py:3: UserWarning: volatile was removed and now has no effect. Use `with torch.no_grad():` instead.\n",
      "  This is separate from the ipykernel package so we can avoid doing imports until\n",
      "C:\\Users\\voho0\\Anaconda3\\lib\\site-packages\\torchvision\\datasets\\mnist.py:48: UserWarning: test_labels has been renamed targets\n",
      "  warnings.warn(\"test_labels has been renamed targets\")\n"
     ]
    }
   ],
   "source": [
    "# convert test data into Variable, pick 2000 samples to speed up testing\n",
    "test_data = dsets.MNIST(root='./mnist/', train=False, transform=transforms.ToTensor())\n",
    "test_x = Variable(test_data.test_data, volatile=True).type(torch.FloatTensor)[:2000]/255.   # shape (2000, 28, 28) value in range(0,1)\n",
    "test_y = test_data.test_labels.numpy().squeeze()[:2000]    # covert to numpy array"
   ]
  },
  {
   "cell_type": "code",
   "execution_count": 9,
   "metadata": {},
   "outputs": [],
   "source": [
    "class RNN(nn.Module):\n",
    "    def __init__(self):\n",
    "        super(RNN, self).__init__()\n",
    "\n",
    "        self.rnn = nn.LSTM(         # if use nn.RNN(), it hardly learns\n",
    "            input_size=INPUT_SIZE,\n",
    "            hidden_size=64,         # rnn hidden unit\n",
    "            num_layers=1,           # number of rnn layer\n",
    "            batch_first=True,       # input & output will has batch size as 1s dimension. e.g. (batch, time_step, input_size)\n",
    "        )\n",
    "        \n",
    "        self.out = nn.Linear(64, 10)\n",
    "\n",
    "    def forward(self, x):\n",
    "        # x shape (batch, time_step, input_size)\n",
    "        # r_out shape (batch, time_step, output_size)\n",
    "        # h_n shape (n_layers, batch, hidden_size)\n",
    "        # h_c shape (n_layers, batch, hidden_size)\n",
    "        r_out, (h_n, h_c) = self.rnn(x, None)\n",
    "\n",
    "        # choose r_out at the last time step\n",
    "        out = self.out(r_out[:, -1, :])\n",
    "        return out"
   ]
  },
  {
   "cell_type": "code",
   "execution_count": 10,
   "metadata": {},
   "outputs": [
    {
     "name": "stdout",
     "output_type": "stream",
     "text": [
      "RNN(\n",
      "  (rnn): LSTM(28, 64, batch_first=True)\n",
      "  (out): Linear(in_features=64, out_features=10, bias=True)\n",
      ")\n"
     ]
    }
   ],
   "source": [
    "rnn= RNN()\n",
    "print(rnn)"
   ]
  },
  {
   "cell_type": "code",
   "execution_count": 22,
   "metadata": {},
   "outputs": [
    {
     "data": {
      "text/plain": [
       "<generator object Module.parameters at 0x0000021567A41B88>"
      ]
     },
     "execution_count": 22,
     "metadata": {},
     "output_type": "execute_result"
    }
   ],
   "source": [
    "rnn.parameters()"
   ]
  },
  {
   "cell_type": "code",
   "execution_count": 25,
   "metadata": {},
   "outputs": [],
   "source": [
    "optimizer = torch.optim.Adam(rnn.parameters(), lr=LR)   # optimize all cnn parameters\n",
    "loss_func = nn.CrossEntropyLoss()                       # the target label is not one-hotted"
   ]
  },
  {
   "cell_type": "code",
   "execution_count": null,
   "metadata": {
    "scrolled": true
   },
   "outputs": [],
   "source": [
    "# training and testing\n",
    "for epoch in range(EPOCH):\n",
    "    for step, (x, y) in enumerate(train_loader):\n",
    "        b_x = Variable(x.view(-1, 28, 28))\n",
    "        b_y = Variable(y)\n",
    "        \n",
    "        output = rnn(b_x)\n",
    "        loss = loss_func(output, b_y)\n",
    "        optimizer.zero_grad()\n",
    "        loss.backward()\n",
    "        optimizer.step()\n",
    "        \n",
    "        #if step % 50 == 0:\n",
    "    test_output = rnn(test_x)\n",
    "    pred_y = torch.max(test_output, 1)[1].data.numpy().squeeze()\n",
    "    accuracy = sum(pred_y == test_y) / float(test_y.size)\n",
    "    # change loss.data[0] to loss.data\n",
    "    print('Epoch:', epoch, '| train loss: %.4f' % loss.data, '| test accuracy: %.2f' % accuracy)"
   ]
  },
  {
   "cell_type": "code",
   "execution_count": 16,
   "metadata": {},
   "outputs": [
    {
     "name": "stdout",
     "output_type": "stream",
     "text": [
      "RNN2(\n",
      "  (rnn): LSTM(28, 64, batch_first=True)\n",
      "  (out): Linear(in_features=64, out_features=10, bias=True)\n",
      ")\n"
     ]
    }
   ],
   "source": [
    "rnn= RNN2()\n",
    "print(rnn)"
   ]
  },
  {
   "cell_type": "code",
   "execution_count": 80,
   "metadata": {},
   "outputs": [
    {
     "name": "stdout",
     "output_type": "stream",
     "text": [
      "[7 2 1 0 4 1 4 9 5 9] prediction number\n",
      "[7 2 1 0 4 1 4 9 5 9] real number\n"
     ]
    }
   ],
   "source": [
    "# print 10 predictions from test data\n",
    "test_output = rnn(test_x[:10].view(-1, 28, 28))\n",
    "pred_y = torch.max(test_output, 1)[1].data.numpy().squeeze()\n",
    "print(pred_y, 'prediction number')\n",
    "print(test_y[:10], 'real number')"
   ]
  },
  {
   "cell_type": "code",
   "execution_count": 74,
   "metadata": {},
   "outputs": [
    {
     "data": {
      "text/plain": [
       "['__class__',\n",
       " '__delattr__',\n",
       " '__dict__',\n",
       " '__dir__',\n",
       " '__doc__',\n",
       " '__eq__',\n",
       " '__format__',\n",
       " '__ge__',\n",
       " '__getattribute__',\n",
       " '__getstate__',\n",
       " '__gt__',\n",
       " '__hash__',\n",
       " '__init__',\n",
       " '__init_subclass__',\n",
       " '__le__',\n",
       " '__lt__',\n",
       " '__module__',\n",
       " '__ne__',\n",
       " '__new__',\n",
       " '__reduce__',\n",
       " '__reduce_ex__',\n",
       " '__repr__',\n",
       " '__setattr__',\n",
       " '__setstate__',\n",
       " '__sizeof__',\n",
       " '__str__',\n",
       " '__subclasshook__',\n",
       " '__weakref__',\n",
       " 'add_param_group',\n",
       " 'defaults',\n",
       " 'load_state_dict',\n",
       " 'param_groups',\n",
       " 'state',\n",
       " 'state_dict',\n",
       " 'step',\n",
       " 'zero_grad']"
      ]
     },
     "execution_count": 74,
     "metadata": {},
     "output_type": "execute_result"
    }
   ],
   "source": [
    "dir(optimizer)"
   ]
  },
  {
   "cell_type": "code",
   "execution_count": 77,
   "metadata": {},
   "outputs": [
    {
     "data": {
      "text/plain": [
       "{'state': {2291054341720: {'step': 1878,\n",
       "   'exp_avg': tensor([[ 3.6278e-12,  4.1817e-06,  4.0920e-06,  ...,  3.0744e-05,\n",
       "             1.3414e-05, -1.1632e-07],\n",
       "           [ 3.8676e-12, -3.0790e-06, -6.5824e-06,  ..., -1.4787e-05,\n",
       "            -7.3598e-06, -3.5706e-07],\n",
       "           [-1.3810e-12,  1.1944e-06,  1.8385e-06,  ...,  1.4698e-06,\n",
       "             6.7562e-07, -6.1525e-09],\n",
       "           ...,\n",
       "           [-2.0255e-12, -9.6479e-08,  1.3702e-07,  ...,  3.8134e-05,\n",
       "             2.5417e-05, -2.8400e-06],\n",
       "           [-9.4034e-12, -9.6676e-09, -5.2665e-09,  ..., -6.8819e-06,\n",
       "            -1.8574e-07,  1.2610e-06],\n",
       "           [ 1.6767e-12, -2.9167e-07, -9.9566e-07,  ...,  1.1565e-05,\n",
       "             7.4689e-06, -3.7486e-07]]),\n",
       "   'exp_avg_sq': tensor([[4.6032e-13, 4.5745e-10, 1.7050e-08,  ..., 3.0361e-07, 1.6248e-08,\n",
       "            8.9842e-10],\n",
       "           [1.0819e-12, 3.0430e-09, 1.4381e-08,  ..., 3.9051e-07, 7.4229e-08,\n",
       "            1.3093e-09],\n",
       "           [5.0613e-14, 2.8029e-11, 1.8449e-10,  ..., 3.3504e-09, 2.8855e-10,\n",
       "            1.2071e-11],\n",
       "           ...,\n",
       "           [1.1374e-14, 1.6477e-10, 8.1128e-10,  ..., 1.2869e-08, 7.7334e-09,\n",
       "            6.7823e-11],\n",
       "           [3.7225e-14, 6.5181e-11, 6.4992e-10,  ..., 1.1102e-08, 1.4294e-09,\n",
       "            8.6329e-11],\n",
       "           [3.8391e-15, 3.2740e-11, 2.3655e-09,  ..., 2.9720e-08, 6.7389e-09,\n",
       "            6.3064e-11]])},\n",
       "  2291054707264: {'step': 1878,\n",
       "   'exp_avg': tensor([[ 2.3164e-04, -1.0774e-04, -4.9774e-05,  ...,  5.5866e-05,\n",
       "            -2.9497e-04, -2.1569e-05],\n",
       "           [ 4.6147e-04, -2.0611e-04, -9.4611e-05,  ..., -2.0252e-04,\n",
       "            -2.7088e-04, -6.9064e-04],\n",
       "           [-2.0287e-04, -2.9518e-04,  8.0453e-06,  ...,  7.3328e-06,\n",
       "            -3.4432e-05, -1.2424e-04],\n",
       "           ...,\n",
       "           [ 5.0085e-04, -1.6470e-04, -3.0399e-05,  ..., -2.7162e-04,\n",
       "            -6.0910e-05,  5.1056e-05],\n",
       "           [-1.4194e-03, -8.7048e-04,  2.3426e-04,  ...,  8.8859e-05,\n",
       "            -1.7469e-04,  1.7258e-04],\n",
       "           [ 1.5080e-07, -2.7315e-04,  5.5019e-06,  ..., -8.0750e-05,\n",
       "             1.8930e-04, -4.8824e-05]]),\n",
       "   'exp_avg_sq': tensor([[7.9733e-06, 2.7631e-05, 1.0620e-06,  ..., 2.8726e-06, 4.8077e-06,\n",
       "            5.2765e-06],\n",
       "           [4.7150e-05, 9.8856e-06, 1.9009e-06,  ..., 7.3185e-06, 3.3678e-06,\n",
       "            5.8279e-06],\n",
       "           [4.2182e-07, 3.4863e-07, 4.3772e-08,  ..., 8.3836e-08, 9.8849e-08,\n",
       "            1.8468e-07],\n",
       "           ...,\n",
       "           [6.4539e-06, 4.0855e-06, 2.7664e-07,  ..., 2.4919e-06, 5.3056e-07,\n",
       "            1.0273e-06],\n",
       "           [2.1724e-05, 8.9531e-06, 6.2421e-06,  ..., 1.5608e-06, 6.5015e-06,\n",
       "            2.7140e-06],\n",
       "           [1.3640e-05, 8.2575e-06, 1.6871e-06,  ..., 1.1239e-06, 1.3115e-06,\n",
       "            3.7219e-06]])},\n",
       "  2291054481344: {'step': 1878,\n",
       "   'exp_avg': tensor([-1.0497e-03, -2.2682e-03,  1.0796e-04, -1.1730e-03,  4.6994e-04,\n",
       "           -7.0289e-04, -7.0819e-04, -5.9584e-05,  7.8796e-04,  1.1573e-03,\n",
       "            9.0580e-04,  7.2307e-04,  2.0807e-03, -8.2884e-04, -1.5574e-03,\n",
       "            3.3399e-04, -5.3753e-04,  4.2282e-04, -6.8188e-04,  1.9231e-04,\n",
       "           -9.8510e-04,  1.1750e-03, -1.1633e-03, -1.0341e-03,  5.0969e-04,\n",
       "           -9.2667e-04,  4.3457e-04,  1.2416e-04,  5.7604e-04,  1.6055e-03,\n",
       "            4.6910e-04, -1.7489e-03, -1.7709e-03,  8.5776e-04,  7.3606e-04,\n",
       "           -4.8543e-04,  4.4481e-05, -4.3282e-04, -3.4994e-04, -2.1472e-03,\n",
       "           -7.7383e-04, -4.3045e-04,  3.0315e-04,  3.0976e-04, -1.5410e-03,\n",
       "           -8.5623e-04,  8.4651e-05,  6.0097e-04,  2.0930e-04,  3.4460e-04,\n",
       "           -8.2758e-04,  2.9271e-04, -1.0587e-05,  6.6157e-04,  1.2758e-03,\n",
       "           -4.3050e-04,  1.7773e-03, -6.2654e-05,  2.4421e-03,  1.9107e-03,\n",
       "            2.9385e-03, -1.5827e-03,  1.2953e-03,  1.2002e-04, -5.9683e-04,\n",
       "           -1.9814e-03,  1.6551e-05, -2.2270e-03, -1.9298e-04,  4.0828e-04,\n",
       "           -7.0848e-04,  1.7949e-05,  2.6563e-03,  1.2649e-03, -6.0441e-05,\n",
       "            7.5432e-04, -1.1198e-03,  1.8152e-03, -5.5411e-04, -2.9556e-04,\n",
       "            5.9313e-04, -2.4552e-05,  1.2243e-03,  1.6369e-03,  4.3057e-04,\n",
       "           -1.7973e-03, -6.6767e-04,  2.0674e-03,  8.8871e-04, -7.0087e-04,\n",
       "            1.5103e-04, -7.4082e-05, -4.3322e-05,  1.8853e-03, -1.6700e-04,\n",
       "           -1.6405e-03, -3.4556e-05,  5.3815e-04,  2.2523e-03, -2.9444e-04,\n",
       "           -6.3895e-05,  3.0801e-03, -1.2644e-03, -1.0615e-03,  2.3703e-03,\n",
       "           -2.8143e-04, -1.0682e-04, -1.1909e-03, -1.2152e-03,  2.8171e-04,\n",
       "            1.3718e-03,  2.1959e-04, -3.3268e-04, -1.3986e-03,  8.8974e-05,\n",
       "            1.5274e-04,  1.3581e-03,  6.7259e-05, -6.4011e-04, -4.2916e-04,\n",
       "            4.9338e-04, -7.3563e-04,  1.8938e-03,  1.5386e-03, -7.1744e-04,\n",
       "           -1.0573e-03,  1.3183e-03,  4.8561e-04, -4.6614e-04, -2.1087e-03,\n",
       "           -3.5856e-04, -8.8957e-04,  7.6714e-04, -1.0427e-03, -1.5958e-03,\n",
       "           -7.6683e-04,  9.0115e-04, -4.4610e-03, -2.7058e-03, -2.1929e-03,\n",
       "           -4.9441e-03, -5.9256e-03,  1.7072e-03, -1.1186e-03, -1.3736e-03,\n",
       "            2.9868e-04, -2.4126e-03, -3.7096e-04,  3.6330e-03,  3.9917e-03,\n",
       "            8.2464e-04, -6.7502e-04,  8.8113e-03, -2.7375e-04,  1.0520e-03,\n",
       "           -4.4300e-03, -2.8693e-03,  1.0792e-03, -1.1476e-03,  8.4205e-03,\n",
       "            2.3640e-03,  1.9028e-03, -6.9894e-03, -5.7447e-04,  1.4593e-03,\n",
       "           -5.2821e-04,  4.6112e-04, -1.7563e-03,  2.9356e-03, -2.9832e-03,\n",
       "            1.4774e-03, -1.4399e-03, -1.2626e-03, -4.5801e-03, -2.2990e-03,\n",
       "           -1.9409e-03,  1.3955e-03,  7.8646e-04,  2.4848e-04,  5.9281e-05,\n",
       "           -9.6950e-04, -5.9950e-04,  6.1138e-03,  1.0199e-03,  1.0433e-03,\n",
       "            3.4486e-04, -5.1967e-03, -9.6665e-04, -5.1819e-03,  2.9118e-03,\n",
       "            3.8394e-04,  3.9982e-03, -5.9933e-04,  3.8940e-04,  3.9747e-06,\n",
       "           -9.5167e-04,  7.5947e-04, -1.0087e-03, -6.8158e-05, -8.8517e-05,\n",
       "            1.5459e-03, -1.3340e-05,  7.5061e-04,  1.2749e-03,  7.4758e-04,\n",
       "           -8.6999e-04, -1.3933e-03,  1.1366e-03,  3.4380e-04,  8.0937e-04,\n",
       "           -5.4787e-04,  9.6836e-04, -7.4181e-05, -1.3834e-03, -6.8848e-04,\n",
       "           -2.0364e-03, -1.0527e-04, -7.2923e-04,  7.9262e-04, -3.4515e-04,\n",
       "           -2.8486e-04,  4.9909e-04,  1.2673e-03, -2.1398e-03,  1.9549e-05,\n",
       "            2.1247e-04, -3.8587e-04, -2.3719e-04, -7.9378e-04, -2.5780e-04,\n",
       "           -5.1092e-04, -1.2419e-03, -3.5589e-04, -4.5714e-04, -1.2465e-03,\n",
       "           -1.0913e-04, -8.6372e-04,  2.3319e-04, -5.7406e-04,  4.9036e-04,\n",
       "           -3.6920e-04,  9.5040e-05, -1.3865e-03,  5.3496e-04,  1.6031e-03,\n",
       "            5.6921e-04,  6.3917e-04, -7.1079e-04,  8.5042e-04, -2.9030e-04,\n",
       "            2.1788e-04,  9.0609e-04,  6.6746e-04, -7.3882e-04,  1.6932e-03,\n",
       "           -4.1476e-04]),\n",
       "   'exp_avg_sq': tensor([4.8629e-05, 8.0033e-05, 1.6927e-06, 8.7053e-05, 6.2416e-06, 4.1781e-05,\n",
       "           4.8476e-05, 2.5940e-06, 2.7363e-06, 5.5506e-05, 9.4579e-06, 3.7845e-05,\n",
       "           4.0458e-05, 9.6244e-05, 7.2841e-05, 2.1102e-05, 3.2965e-05, 5.0479e-06,\n",
       "           1.8990e-05, 7.3648e-06, 3.6231e-05, 2.7759e-05, 6.3766e-05, 1.6423e-05,\n",
       "           1.3176e-05, 1.6420e-05, 1.5318e-05, 8.2835e-06, 4.1651e-05, 3.2787e-05,\n",
       "           3.4631e-05, 6.3068e-05, 3.9115e-05, 5.1683e-05, 3.8092e-05, 8.1381e-06,\n",
       "           1.8525e-05, 4.0383e-05, 5.5168e-05, 5.6961e-05, 5.7045e-05, 6.8226e-06,\n",
       "           1.7949e-05, 5.9998e-05, 6.9147e-05, 2.7135e-05, 6.7218e-06, 1.3779e-05,\n",
       "           3.5820e-05, 9.9664e-05, 1.2651e-05, 2.4986e-06, 8.9849e-06, 3.1023e-05,\n",
       "           3.8534e-05, 1.1800e-05, 7.9621e-06, 9.8567e-06, 6.6963e-05, 3.8547e-05,\n",
       "           2.8835e-05, 2.3340e-05, 9.1048e-06, 3.5082e-05, 6.0017e-05, 2.5835e-04,\n",
       "           3.6841e-06, 1.1943e-04, 6.7355e-06, 6.1753e-05, 2.7050e-05, 1.2850e-06,\n",
       "           3.7445e-05, 3.9165e-05, 7.0561e-06, 5.5969e-05, 6.8860e-05, 1.3468e-04,\n",
       "           9.7363e-05, 1.4817e-05, 2.9744e-05, 9.2405e-06, 2.3461e-05, 5.1542e-05,\n",
       "           6.4972e-05, 2.9994e-05, 6.6920e-05, 5.7185e-05, 1.8713e-05, 1.1398e-05,\n",
       "           1.1746e-05, 1.3333e-05, 8.7010e-05, 2.3061e-05, 5.1606e-05, 9.2806e-05,\n",
       "           8.6348e-05, 5.1561e-05, 6.2585e-05, 9.2491e-06, 2.0454e-05, 5.9095e-05,\n",
       "           1.1700e-04, 3.7939e-05, 8.0455e-05, 2.8436e-06, 7.4595e-06, 1.6861e-04,\n",
       "           6.3199e-05, 3.7798e-05, 3.4951e-05, 2.0022e-05, 3.9826e-05, 2.1849e-05,\n",
       "           2.7126e-05, 3.1274e-06, 1.8506e-05, 1.4455e-05, 2.5596e-05, 3.6498e-05,\n",
       "           9.6801e-06, 7.9187e-06, 5.6561e-05, 4.3210e-05, 6.1506e-05, 2.4250e-05,\n",
       "           1.5464e-05, 3.2768e-05, 7.4292e-04, 1.4689e-03, 3.9133e-05, 1.4509e-03,\n",
       "           7.6419e-05, 7.6868e-04, 4.6615e-04, 4.7686e-05, 2.4957e-04, 2.9983e-04,\n",
       "           1.2820e-04, 3.2918e-03, 8.8026e-04, 2.2981e-03, 1.0930e-03, 2.0738e-04,\n",
       "           5.4984e-04, 5.6466e-05, 6.7374e-04, 4.2311e-04, 4.1243e-04, 4.2436e-04,\n",
       "           1.7919e-03, 6.2587e-04, 5.9083e-04, 2.6704e-04, 2.5463e-04, 1.6366e-04,\n",
       "           6.6692e-04, 3.9932e-04, 9.9362e-04, 6.5359e-04, 1.8944e-03, 6.7581e-04,\n",
       "           1.3741e-03, 1.4026e-04, 6.1763e-04, 8.4022e-04, 1.0038e-03, 1.1754e-03,\n",
       "           5.8023e-04, 1.4997e-04, 3.5169e-04, 1.0241e-03, 7.7280e-04, 7.3716e-04,\n",
       "           3.7325e-04, 1.8420e-04, 9.0903e-04, 4.6912e-04, 2.8628e-04, 4.0403e-05,\n",
       "           1.5494e-04, 2.5446e-04, 7.3508e-04, 1.9920e-04, 5.3241e-05, 1.8490e-04,\n",
       "           9.6881e-04, 4.2168e-04, 5.1517e-04, 4.3514e-04, 3.3055e-04, 2.9555e-04,\n",
       "           4.2523e-05, 4.2708e-05, 2.2478e-05, 2.4340e-05, 1.2198e-05, 1.9981e-05,\n",
       "           3.3786e-05, 3.1470e-06, 4.1774e-05, 2.8509e-05, 2.3259e-05, 6.5647e-05,\n",
       "           4.3289e-05, 3.0045e-05, 1.9118e-05, 9.7314e-06, 1.8185e-05, 1.1099e-05,\n",
       "           3.0148e-05, 4.8969e-05, 3.4027e-05, 1.4458e-05, 1.1610e-05, 7.7471e-05,\n",
       "           2.7543e-05, 1.0211e-05, 2.1664e-05, 1.4492e-05, 4.8991e-05, 1.5991e-05,\n",
       "           2.2887e-05, 1.8432e-05, 5.9667e-05, 3.3821e-05, 9.0621e-06, 1.9166e-05,\n",
       "           1.5429e-05, 3.4508e-05, 6.1868e-05, 3.7011e-05, 2.0906e-05, 6.3080e-06,\n",
       "           2.3589e-05, 7.1944e-05, 1.4869e-05, 3.5853e-05, 2.9335e-05, 3.4228e-05,\n",
       "           4.4915e-05, 1.2160e-05, 2.8325e-05, 5.4203e-06, 3.0529e-05, 2.4782e-05,\n",
       "           2.1745e-05, 3.4599e-05, 1.0130e-05, 1.6843e-05, 3.1866e-05, 2.1013e-05,\n",
       "           2.6581e-05, 1.1445e-05, 4.5064e-05, 2.2873e-05])},\n",
       "  2291054478536: {'step': 1878,\n",
       "   'exp_avg': tensor([-1.0497e-03, -2.2682e-03,  1.0796e-04, -1.1730e-03,  4.6994e-04,\n",
       "           -7.0288e-04, -7.0819e-04, -5.9584e-05,  7.8796e-04,  1.1573e-03,\n",
       "            9.0580e-04,  7.2307e-04,  2.0807e-03, -8.2884e-04, -1.5574e-03,\n",
       "            3.3399e-04, -5.3753e-04,  4.2282e-04, -6.8188e-04,  1.9231e-04,\n",
       "           -9.8510e-04,  1.1750e-03, -1.1633e-03, -1.0341e-03,  5.0969e-04,\n",
       "           -9.2667e-04,  4.3457e-04,  1.2416e-04,  5.7604e-04,  1.6055e-03,\n",
       "            4.6910e-04, -1.7489e-03, -1.7709e-03,  8.5777e-04,  7.3606e-04,\n",
       "           -4.8543e-04,  4.4481e-05, -4.3282e-04, -3.4994e-04, -2.1472e-03,\n",
       "           -7.7383e-04, -4.3045e-04,  3.0315e-04,  3.0976e-04, -1.5410e-03,\n",
       "           -8.5623e-04,  8.4651e-05,  6.0097e-04,  2.0930e-04,  3.4460e-04,\n",
       "           -8.2758e-04,  2.9271e-04, -1.0587e-05,  6.6157e-04,  1.2758e-03,\n",
       "           -4.3050e-04,  1.7773e-03, -6.2654e-05,  2.4421e-03,  1.9107e-03,\n",
       "            2.9386e-03, -1.5827e-03,  1.2953e-03,  1.2002e-04, -5.9683e-04,\n",
       "           -1.9814e-03,  1.6551e-05, -2.2270e-03, -1.9298e-04,  4.0828e-04,\n",
       "           -7.0848e-04,  1.7949e-05,  2.6563e-03,  1.2649e-03, -6.0440e-05,\n",
       "            7.5432e-04, -1.1198e-03,  1.8152e-03, -5.5411e-04, -2.9556e-04,\n",
       "            5.9313e-04, -2.4552e-05,  1.2243e-03,  1.6369e-03,  4.3057e-04,\n",
       "           -1.7972e-03, -6.6767e-04,  2.0674e-03,  8.8871e-04, -7.0087e-04,\n",
       "            1.5103e-04, -7.4082e-05, -4.3323e-05,  1.8853e-03, -1.6700e-04,\n",
       "           -1.6405e-03, -3.4557e-05,  5.3815e-04,  2.2523e-03, -2.9444e-04,\n",
       "           -6.3895e-05,  3.0801e-03, -1.2644e-03, -1.0615e-03,  2.3703e-03,\n",
       "           -2.8143e-04, -1.0682e-04, -1.1909e-03, -1.2152e-03,  2.8171e-04,\n",
       "            1.3718e-03,  2.1959e-04, -3.3268e-04, -1.3986e-03,  8.8973e-05,\n",
       "            1.5274e-04,  1.3581e-03,  6.7259e-05, -6.4011e-04, -4.2916e-04,\n",
       "            4.9338e-04, -7.3563e-04,  1.8938e-03,  1.5386e-03, -7.1744e-04,\n",
       "           -1.0573e-03,  1.3183e-03,  4.8561e-04, -4.6614e-04, -2.1087e-03,\n",
       "           -3.5856e-04, -8.8958e-04,  7.6714e-04, -1.0427e-03, -1.5958e-03,\n",
       "           -7.6683e-04,  9.0115e-04, -4.4610e-03, -2.7058e-03, -2.1929e-03,\n",
       "           -4.9440e-03, -5.9256e-03,  1.7072e-03, -1.1186e-03, -1.3736e-03,\n",
       "            2.9868e-04, -2.4126e-03, -3.7096e-04,  3.6330e-03,  3.9917e-03,\n",
       "            8.2464e-04, -6.7502e-04,  8.8114e-03, -2.7375e-04,  1.0520e-03,\n",
       "           -4.4300e-03, -2.8693e-03,  1.0792e-03, -1.1476e-03,  8.4205e-03,\n",
       "            2.3640e-03,  1.9028e-03, -6.9894e-03, -5.7447e-04,  1.4593e-03,\n",
       "           -5.2821e-04,  4.6112e-04, -1.7563e-03,  2.9356e-03, -2.9832e-03,\n",
       "            1.4774e-03, -1.4399e-03, -1.2626e-03, -4.5801e-03, -2.2990e-03,\n",
       "           -1.9409e-03,  1.3955e-03,  7.8646e-04,  2.4848e-04,  5.9281e-05,\n",
       "           -9.6950e-04, -5.9950e-04,  6.1138e-03,  1.0199e-03,  1.0433e-03,\n",
       "            3.4487e-04, -5.1967e-03, -9.6665e-04, -5.1819e-03,  2.9118e-03,\n",
       "            3.8395e-04,  3.9982e-03, -5.9933e-04,  3.8940e-04,  3.9744e-06,\n",
       "           -9.5167e-04,  7.5947e-04, -1.0087e-03, -6.8158e-05, -8.8517e-05,\n",
       "            1.5459e-03, -1.3341e-05,  7.5061e-04,  1.2749e-03,  7.4758e-04,\n",
       "           -8.6999e-04, -1.3933e-03,  1.1366e-03,  3.4380e-04,  8.0937e-04,\n",
       "           -5.4787e-04,  9.6836e-04, -7.4182e-05, -1.3834e-03, -6.8848e-04,\n",
       "           -2.0365e-03, -1.0527e-04, -7.2924e-04,  7.9262e-04, -3.4515e-04,\n",
       "           -2.8486e-04,  4.9909e-04,  1.2673e-03, -2.1398e-03,  1.9549e-05,\n",
       "            2.1247e-04, -3.8587e-04, -2.3719e-04, -7.9378e-04, -2.5780e-04,\n",
       "           -5.1091e-04, -1.2419e-03, -3.5589e-04, -4.5714e-04, -1.2465e-03,\n",
       "           -1.0913e-04, -8.6372e-04,  2.3319e-04, -5.7406e-04,  4.9036e-04,\n",
       "           -3.6919e-04,  9.5040e-05, -1.3865e-03,  5.3496e-04,  1.6031e-03,\n",
       "            5.6921e-04,  6.3917e-04, -7.1079e-04,  8.5042e-04, -2.9030e-04,\n",
       "            2.1788e-04,  9.0609e-04,  6.6746e-04, -7.3882e-04,  1.6932e-03,\n",
       "           -4.1476e-04]),\n",
       "   'exp_avg_sq': tensor([4.8629e-05, 8.0033e-05, 1.6927e-06, 8.7053e-05, 6.2416e-06, 4.1781e-05,\n",
       "           4.8476e-05, 2.5940e-06, 2.7363e-06, 5.5506e-05, 9.4579e-06, 3.7845e-05,\n",
       "           4.0458e-05, 9.6244e-05, 7.2841e-05, 2.1102e-05, 3.2965e-05, 5.0479e-06,\n",
       "           1.8990e-05, 7.3648e-06, 3.6231e-05, 2.7759e-05, 6.3766e-05, 1.6423e-05,\n",
       "           1.3176e-05, 1.6420e-05, 1.5318e-05, 8.2835e-06, 4.1651e-05, 3.2787e-05,\n",
       "           3.4631e-05, 6.3068e-05, 3.9115e-05, 5.1683e-05, 3.8092e-05, 8.1381e-06,\n",
       "           1.8525e-05, 4.0383e-05, 5.5168e-05, 5.6961e-05, 5.7045e-05, 6.8226e-06,\n",
       "           1.7949e-05, 5.9998e-05, 6.9147e-05, 2.7135e-05, 6.7218e-06, 1.3779e-05,\n",
       "           3.5820e-05, 9.9664e-05, 1.2651e-05, 2.4986e-06, 8.9849e-06, 3.1023e-05,\n",
       "           3.8534e-05, 1.1800e-05, 7.9621e-06, 9.8567e-06, 6.6963e-05, 3.8547e-05,\n",
       "           2.8835e-05, 2.3340e-05, 9.1048e-06, 3.5082e-05, 6.0017e-05, 2.5835e-04,\n",
       "           3.6841e-06, 1.1943e-04, 6.7355e-06, 6.1753e-05, 2.7050e-05, 1.2850e-06,\n",
       "           3.7445e-05, 3.9165e-05, 7.0561e-06, 5.5969e-05, 6.8860e-05, 1.3468e-04,\n",
       "           9.7363e-05, 1.4817e-05, 2.9744e-05, 9.2405e-06, 2.3461e-05, 5.1542e-05,\n",
       "           6.4972e-05, 2.9994e-05, 6.6920e-05, 5.7185e-05, 1.8713e-05, 1.1398e-05,\n",
       "           1.1746e-05, 1.3333e-05, 8.7010e-05, 2.3061e-05, 5.1606e-05, 9.2806e-05,\n",
       "           8.6348e-05, 5.1561e-05, 6.2585e-05, 9.2491e-06, 2.0454e-05, 5.9095e-05,\n",
       "           1.1700e-04, 3.7939e-05, 8.0455e-05, 2.8436e-06, 7.4595e-06, 1.6861e-04,\n",
       "           6.3199e-05, 3.7798e-05, 3.4951e-05, 2.0022e-05, 3.9826e-05, 2.1849e-05,\n",
       "           2.7126e-05, 3.1274e-06, 1.8506e-05, 1.4455e-05, 2.5596e-05, 3.6498e-05,\n",
       "           9.6801e-06, 7.9187e-06, 5.6561e-05, 4.3210e-05, 6.1506e-05, 2.4251e-05,\n",
       "           1.5464e-05, 3.2768e-05, 7.4292e-04, 1.4689e-03, 3.9133e-05, 1.4509e-03,\n",
       "           7.6419e-05, 7.6868e-04, 4.6615e-04, 4.7686e-05, 2.4957e-04, 2.9983e-04,\n",
       "           1.2820e-04, 3.2918e-03, 8.8026e-04, 2.2981e-03, 1.0930e-03, 2.0738e-04,\n",
       "           5.4984e-04, 5.6466e-05, 6.7374e-04, 4.2311e-04, 4.1243e-04, 4.2436e-04,\n",
       "           1.7919e-03, 6.2587e-04, 5.9083e-04, 2.6704e-04, 2.5463e-04, 1.6366e-04,\n",
       "           6.6692e-04, 3.9932e-04, 9.9362e-04, 6.5359e-04, 1.8944e-03, 6.7581e-04,\n",
       "           1.3741e-03, 1.4026e-04, 6.1763e-04, 8.4022e-04, 1.0038e-03, 1.1754e-03,\n",
       "           5.8023e-04, 1.4997e-04, 3.5169e-04, 1.0241e-03, 7.7280e-04, 7.3716e-04,\n",
       "           3.7325e-04, 1.8420e-04, 9.0903e-04, 4.6912e-04, 2.8628e-04, 4.0403e-05,\n",
       "           1.5494e-04, 2.5446e-04, 7.3508e-04, 1.9920e-04, 5.3241e-05, 1.8490e-04,\n",
       "           9.6881e-04, 4.2168e-04, 5.1517e-04, 4.3514e-04, 3.3055e-04, 2.9555e-04,\n",
       "           4.2523e-05, 4.2708e-05, 2.2478e-05, 2.4340e-05, 1.2198e-05, 1.9981e-05,\n",
       "           3.3786e-05, 3.1470e-06, 4.1774e-05, 2.8509e-05, 2.3259e-05, 6.5647e-05,\n",
       "           4.3289e-05, 3.0045e-05, 1.9118e-05, 9.7314e-06, 1.8185e-05, 1.1099e-05,\n",
       "           3.0148e-05, 4.8969e-05, 3.4027e-05, 1.4458e-05, 1.1610e-05, 7.7471e-05,\n",
       "           2.7543e-05, 1.0211e-05, 2.1664e-05, 1.4492e-05, 4.8991e-05, 1.5991e-05,\n",
       "           2.2887e-05, 1.8432e-05, 5.9667e-05, 3.3821e-05, 9.0621e-06, 1.9166e-05,\n",
       "           1.5429e-05, 3.4508e-05, 6.1868e-05, 3.7011e-05, 2.0906e-05, 6.3080e-06,\n",
       "           2.3589e-05, 7.1944e-05, 1.4869e-05, 3.5853e-05, 2.9335e-05, 3.4228e-05,\n",
       "           4.4915e-05, 1.2160e-05, 2.8325e-05, 5.4203e-06, 3.0529e-05, 2.4782e-05,\n",
       "           2.1745e-05, 3.4599e-05, 1.0130e-05, 1.6843e-05, 3.1866e-05, 2.1013e-05,\n",
       "           2.6581e-05, 1.1445e-05, 4.5064e-05, 2.2873e-05])},\n",
       "  2291054480768: {'step': 1878,\n",
       "   'exp_avg': tensor([[-6.6515e-04, -3.7664e-04, -1.4215e-06, -1.4421e-03,  7.8190e-04,\n",
       "            -6.0873e-05,  2.7510e-04,  3.8594e-04, -4.1952e-04,  1.1768e-03,\n",
       "            -6.1751e-04, -8.9709e-04, -7.3182e-04, -9.5589e-04, -1.4157e-03,\n",
       "             9.1728e-04,  1.2736e-04,  6.0234e-05, -5.8312e-04,  2.4078e-04,\n",
       "             5.0876e-05, -5.8719e-04, -3.0326e-04, -6.3012e-05,  2.8126e-04,\n",
       "             7.1457e-04, -3.9771e-05,  7.6331e-04, -1.3208e-04,  9.5166e-05,\n",
       "             3.6643e-05,  5.6804e-04, -1.1223e-03, -5.6210e-04,  2.2838e-04,\n",
       "             7.0413e-04, -1.1192e-03, -8.6266e-04, -2.8577e-04, -3.4975e-04,\n",
       "            -2.0185e-05,  1.2384e-04, -1.5798e-04, -1.4645e-04, -6.6825e-04,\n",
       "             1.1277e-05,  1.3766e-03, -3.4341e-04, -2.9207e-05, -7.0207e-04,\n",
       "             2.9208e-04,  2.1067e-04, -7.5931e-05, -1.9561e-04,  6.5251e-04,\n",
       "            -5.1589e-04,  2.7734e-05, -9.0083e-04,  2.0943e-04, -4.5929e-05,\n",
       "             1.5484e-04, -1.1061e-04, -7.7635e-04,  1.0392e-04],\n",
       "           [-4.6466e-04, -6.1464e-04,  6.4727e-04, -5.8062e-04,  1.3681e-03,\n",
       "            -1.0508e-03,  1.2778e-04,  1.3418e-03,  1.9345e-04,  9.8367e-04,\n",
       "            -4.9771e-04, -1.5411e-03, -9.3963e-04, -5.0032e-04, -4.6602e-04,\n",
       "            -3.9526e-04,  1.8512e-04,  3.4877e-04, -1.2360e-03,  7.6103e-04,\n",
       "             1.0024e-03,  3.0404e-04,  4.5386e-05, -4.0043e-05, -1.2675e-03,\n",
       "             5.3789e-04,  3.5809e-04,  8.1433e-04,  2.1697e-04,  5.0116e-04,\n",
       "            -4.4012e-05,  1.2611e-03,  6.7713e-04,  7.8434e-04, -8.5285e-04,\n",
       "             5.2223e-05, -1.1363e-03, -1.0180e-03,  5.0312e-04,  1.2662e-03,\n",
       "            -1.4625e-05,  8.3015e-07, -3.3368e-04,  1.6877e-04, -7.9768e-04,\n",
       "            -3.8821e-04,  6.8801e-04, -1.2831e-03, -7.5626e-04,  2.4357e-04,\n",
       "             9.7377e-04,  5.8059e-04, -1.0957e-03, -3.7582e-04,  6.6134e-04,\n",
       "            -1.0545e-04,  9.2558e-05, -6.4234e-04,  2.0535e-06, -5.8450e-05,\n",
       "            -2.3638e-05, -1.5469e-04,  1.1873e-03,  1.0342e-04],\n",
       "           [-4.0461e-03, -3.1270e-03,  5.7221e-04, -3.4013e-03,  2.9253e-03,\n",
       "            -2.2763e-03,  7.3236e-04,  3.1259e-04,  2.6808e-04,  1.0815e-03,\n",
       "            -4.3116e-04, -2.6064e-04, -7.7148e-04, -1.9375e-03,  1.4197e-03,\n",
       "             2.5737e-04,  6.1385e-04,  7.1038e-04, -2.3819e-03,  2.5821e-05,\n",
       "             3.8786e-05,  1.1675e-03, -8.4928e-05, -1.6892e-04,  1.7001e-03,\n",
       "             1.8809e-03, -8.5520e-04,  1.5037e-04, -1.6238e-03,  8.9316e-05,\n",
       "            -5.2784e-05,  1.8976e-03, -1.7622e-03,  3.7499e-04,  1.5605e-03,\n",
       "             3.3808e-05, -7.9763e-04, -3.8428e-03, -6.5925e-04,  6.2212e-04,\n",
       "             2.9622e-04,  1.9081e-04, -2.0059e-05,  2.7224e-04, -2.5780e-04,\n",
       "            -4.3146e-04,  8.9102e-04,  6.1556e-04,  3.2638e-03,  9.0547e-04,\n",
       "             2.6650e-03,  1.0419e-03, -2.4900e-03,  2.6334e-03,  4.1033e-04,\n",
       "            -2.4173e-03,  1.1595e-03,  2.5152e-04,  3.6443e-05,  8.9421e-05,\n",
       "            -1.9141e-03, -7.1156e-04, -1.8826e-03, -1.6005e-04],\n",
       "           [ 2.4320e-03,  3.4156e-03, -4.3163e-05,  2.5690e-03, -2.0337e-03,\n",
       "             8.3047e-04, -8.5913e-04,  2.5417e-04,  4.9902e-05,  5.0900e-05,\n",
       "            -1.8076e-04, -8.4793e-04,  7.4164e-06,  1.2312e-03, -1.4013e-03,\n",
       "             8.8056e-04, -1.5791e-03, -1.2936e-03, -7.8694e-05, -9.7542e-04,\n",
       "            -1.2548e-04, -3.4163e-04,  1.2196e-04,  3.4350e-04, -3.2263e-03,\n",
       "            -6.7097e-04,  5.7206e-04,  4.2813e-04,  1.8489e-03,  2.3318e-04,\n",
       "             2.6773e-04, -1.2053e-03,  1.6787e-03, -6.2553e-04, -2.2177e-03,\n",
       "             5.9315e-05, -1.4568e-03,  2.2985e-03,  7.9475e-04,  6.2928e-04,\n",
       "             5.9681e-04,  1.3738e-04, -6.8882e-04, -5.2026e-04, -1.4792e-03,\n",
       "             1.0920e-04, -2.7510e-04,  9.9895e-04, -2.5291e-03, -9.3579e-04,\n",
       "            -1.7259e-03, -7.2917e-04,  1.1966e-03, -2.1870e-03, -5.6707e-04,\n",
       "             7.1424e-04, -1.0192e-03, -5.6087e-04,  5.1371e-05, -4.0503e-05,\n",
       "             2.5024e-03,  1.9776e-04,  1.1331e-03,  4.0929e-04],\n",
       "           [-1.5307e-03,  4.6658e-04, -4.5814e-04,  3.8881e-04,  3.3362e-04,\n",
       "            -7.4692e-04,  2.6914e-04,  6.3803e-04,  6.5077e-05, -7.1130e-06,\n",
       "            -5.7864e-05, -5.7278e-04,  1.9743e-04,  5.2107e-04,  1.4778e-04,\n",
       "             2.4443e-04, -2.5444e-04,  1.0286e-04, -5.0872e-04, -7.0613e-04,\n",
       "            -4.1343e-04,  1.8231e-04, -7.7117e-04, -6.0423e-05, -3.3381e-04,\n",
       "             1.2940e-03,  1.7815e-05, -1.7904e-04,  4.5986e-04,  5.9692e-05,\n",
       "             3.4102e-05,  4.6730e-04, -2.8188e-04, -1.0464e-03, -2.1492e-03,\n",
       "            -1.4590e-03,  7.9445e-04, -5.7929e-04,  4.1169e-04,  7.3539e-04,\n",
       "             6.5826e-04, -1.4265e-03, -3.3663e-04, -2.1162e-04, -1.6473e-03,\n",
       "             1.6436e-04, -1.5069e-03,  1.2800e-03,  2.5473e-06, -7.5536e-05,\n",
       "            -1.1386e-04,  1.1764e-05, -2.3619e-03,  8.5523e-04, -1.3704e-04,\n",
       "            -4.4831e-05,  4.7098e-05,  3.3235e-05, -1.7471e-04,  3.3808e-04,\n",
       "             5.8695e-05,  8.2880e-05, -3.6915e-04, -3.2979e-05],\n",
       "           [-4.3039e-03, -2.8472e-03,  5.4760e-04, -3.2644e-03, -1.1165e-03,\n",
       "            -4.1171e-04,  8.5337e-05,  1.0559e-03,  2.2178e-04,  2.7474e-03,\n",
       "            -5.4236e-04, -3.1099e-03, -2.5863e-03, -2.6896e-03, -3.4652e-03,\n",
       "            -1.1061e-03, -3.2316e-04, -1.5087e-04, -4.2685e-03, -7.8386e-04,\n",
       "            -1.0887e-03, -2.3358e-03,  1.1639e-04,  7.0895e-04, -5.1013e-04,\n",
       "             1.6319e-03, -1.6246e-04,  1.5200e-03, -7.9981e-04,  7.2439e-04,\n",
       "             7.8260e-05,  1.4466e-03, -1.8343e-03, -1.5760e-03, -1.7393e-03,\n",
       "             3.7248e-04, -3.7116e-03, -2.3112e-03, -2.8789e-03,  1.6906e-03,\n",
       "             5.9801e-05,  3.9546e-04, -1.2013e-04, -1.0982e-06, -1.3156e-03,\n",
       "            -5.4582e-04,  2.6289e-03,  2.7326e-05, -8.4007e-04,  2.0708e-03,\n",
       "            -1.1813e-03,  6.6619e-04, -2.9041e-03, -2.5097e-03,  1.3118e-03,\n",
       "            -1.5885e-03,  1.6667e-03, -3.4459e-03,  3.7900e-04,  9.0233e-05,\n",
       "            -2.6014e-03, -5.3324e-07, -1.2211e-03,  1.0543e-03],\n",
       "           [ 2.3643e-03,  1.7954e-03, -9.9704e-04,  4.5628e-03, -8.8621e-04,\n",
       "             1.2345e-03, -2.6346e-04, -2.4360e-03,  1.0211e-03, -4.2230e-03,\n",
       "             8.2806e-04,  4.7403e-03,  3.6110e-03,  2.2466e-03,  3.1860e-03,\n",
       "             8.7644e-04, -2.3752e-04, -2.8888e-05,  4.0585e-03,  5.6202e-04,\n",
       "             6.9409e-04,  2.4539e-03,  1.1362e-04, -1.1017e-03,  2.3139e-03,\n",
       "            -2.0935e-03, -4.0865e-05, -3.2804e-03, -4.2281e-04, -4.8329e-04,\n",
       "            -5.0748e-05, -2.9038e-03,  1.1444e-03, -4.6989e-04,  4.8865e-03,\n",
       "            -3.2977e-04,  3.5936e-03,  3.8417e-03,  1.9585e-03, -4.3623e-03,\n",
       "            -1.7589e-05,  6.0604e-05,  2.0998e-03, -2.0914e-04,  2.1551e-03,\n",
       "             5.5258e-04, -4.0272e-03,  9.7615e-04,  2.3974e-03, -2.9817e-03,\n",
       "            -8.8206e-04, -1.9521e-03,  2.5952e-03,  2.8085e-03, -8.9208e-04,\n",
       "             5.3138e-04, -8.9341e-04,  4.4461e-03, -4.3537e-04,  1.5595e-05,\n",
       "             1.6333e-03,  1.5681e-04,  7.2789e-04, -5.4787e-04],\n",
       "           [ 9.0217e-04, -9.3512e-05, -2.9670e-04,  8.8463e-04, -5.5233e-04,\n",
       "             9.8348e-04,  1.1496e-04, -1.6297e-04,  1.2801e-05,  7.3174e-05,\n",
       "             4.9736e-05, -4.1690e-04,  4.9682e-05,  5.3085e-04, -1.9084e-03,\n",
       "            -1.1361e-04,  8.2048e-04,  2.6341e-04,  1.5780e-03,  1.1693e-03,\n",
       "             2.6898e-04, -1.1394e-03,  4.0013e-05, -1.2171e-05,  5.1224e-04,\n",
       "            -1.2738e-03,  1.2852e-04,  2.2824e-05,  8.0288e-05,  8.3950e-05,\n",
       "             2.5465e-05, -5.3905e-05, -1.5284e-03,  4.1024e-04, -4.7970e-04,\n",
       "             2.6965e-04,  1.1729e-03,  9.3056e-04, -6.4980e-04, -1.2729e-03,\n",
       "            -1.0334e-03, -4.4374e-05, -3.5306e-06,  1.2799e-04,  1.3846e-03,\n",
       "            -1.7213e-04,  7.4166e-05, -1.8599e-03, -1.2144e-03,  2.0027e-04,\n",
       "            -7.2857e-04, -4.2755e-05,  1.3887e-03, -2.0274e-03,  8.3853e-04,\n",
       "             8.3784e-04, -3.5403e-04, -7.2793e-04, -1.0037e-04, -6.2224e-05,\n",
       "            -5.3835e-05,  5.9804e-04,  1.1238e-04, -5.1859e-04],\n",
       "           [ 4.9717e-04, -3.0339e-04,  2.8887e-04, -1.9360e-04, -1.7877e-03,\n",
       "             4.0276e-04, -1.3333e-04, -7.8703e-04, -3.7924e-04, -7.0487e-04,\n",
       "             1.2701e-03,  1.5648e-03,  8.1904e-04,  1.1718e-03,  1.2452e-03,\n",
       "            -1.4738e-03,  3.2428e-05, -1.8988e-05,  1.3522e-03, -8.3456e-04,\n",
       "            -1.0047e-03,  1.3015e-04, -2.0264e-04,  3.7235e-04, -1.6492e-04,\n",
       "            -6.6544e-04, -3.2799e-04, -6.2118e-04,  2.5377e-05, -5.3430e-04,\n",
       "            -4.6562e-05, -1.0519e-04,  1.6384e-04, -7.2642e-05,  2.0824e-03,\n",
       "             3.7711e-05,  1.8883e-03,  7.2740e-04,  1.8851e-04,  7.5145e-04,\n",
       "             1.5257e-04, -6.4738e-05,  1.1588e-03,  4.8299e-04,  1.1497e-03,\n",
       "             5.9774e-04, -8.1283e-04,  8.8683e-04,  9.0005e-05,  1.4764e-03,\n",
       "            -8.8282e-04, -5.9233e-05,  8.7154e-04, -2.6713e-04, -8.9429e-04,\n",
       "             1.4842e-03,  9.8639e-05,  3.1801e-04,  5.6773e-05,  3.3902e-05,\n",
       "            -7.2975e-04, -1.3041e-05,  6.7650e-05,  3.5686e-05],\n",
       "           [ 4.8149e-03,  1.6847e-03, -2.5949e-04,  4.7674e-04,  9.6766e-04,\n",
       "             1.0954e-03, -3.4877e-04, -6.0241e-04, -1.0335e-03, -1.1785e-03,\n",
       "             1.7944e-04,  1.3412e-03,  3.4464e-04,  3.8170e-04,  2.6579e-03,\n",
       "            -8.7321e-05,  6.1503e-04,  6.6695e-06,  2.0683e-03,  5.4104e-04,\n",
       "             5.7717e-04,  1.6609e-04,  9.2463e-04,  2.1522e-05,  6.9513e-04,\n",
       "            -1.3555e-03,  3.4980e-04,  3.8170e-04,  3.4714e-04, -7.6927e-04,\n",
       "            -2.4809e-04, -1.3724e-03,  2.8650e-03,  2.7830e-03, -1.3191e-03,\n",
       "             2.5944e-04,  7.7227e-04,  8.1579e-04,  6.1716e-04,  2.8990e-04,\n",
       "            -6.7783e-04,  6.2665e-04, -1.5978e-03,  3.6577e-05,  1.4765e-03,\n",
       "             1.0247e-04,  9.6324e-04, -1.2984e-03, -3.8474e-04, -2.0140e-04,\n",
       "             1.5837e-03,  2.7217e-04,  2.8757e-03,  1.2655e-03, -1.3840e-03,\n",
       "             1.1043e-03, -8.2567e-04,  1.2290e-03, -2.4623e-05, -3.6013e-04,\n",
       "             9.7348e-04, -4.5073e-05,  1.0209e-03, -4.4713e-04]]),\n",
       "   'exp_avg_sq': tensor([[2.7357e-05, 9.4739e-06, 1.2104e-05, 4.2275e-05, 2.9457e-05, 1.3484e-06,\n",
       "            2.1578e-05, 6.0814e-06, 1.7079e-05, 1.4612e-05, 1.8887e-05, 1.9014e-05,\n",
       "            2.9995e-05, 1.4082e-05, 4.9453e-05, 2.8227e-05, 4.6682e-06, 5.4448e-06,\n",
       "            2.0761e-05, 7.2918e-06, 2.7214e-06, 3.9955e-05, 1.3857e-05, 7.5017e-06,\n",
       "            1.7550e-05, 2.7719e-05, 8.4473e-06, 3.6159e-05, 1.0091e-05, 2.8787e-06,\n",
       "            1.9749e-06, 2.3594e-05, 1.7395e-05, 2.9031e-05, 4.3976e-05, 2.2894e-05,\n",
       "            2.0957e-05, 1.5095e-05, 5.0538e-05, 1.9895e-05, 2.2236e-06, 5.2605e-06,\n",
       "            2.2038e-05, 2.8516e-05, 2.4519e-05, 7.9375e-06, 4.7453e-05, 1.4719e-06,\n",
       "            1.1340e-05, 4.3384e-05, 2.0982e-05, 8.3862e-06, 9.4141e-06, 1.2976e-05,\n",
       "            1.6646e-05, 1.2279e-05, 8.9907e-06, 2.6041e-05, 1.1159e-05, 2.3421e-06,\n",
       "            1.8494e-05, 1.9796e-06, 2.1281e-05, 8.0153e-06],\n",
       "           [3.8190e-05, 2.0815e-05, 2.2080e-05, 2.4151e-05, 2.5596e-05, 1.3869e-05,\n",
       "            6.1074e-06, 7.7094e-06, 1.8437e-05, 7.7942e-06, 4.6179e-06, 2.8128e-05,\n",
       "            1.3873e-05, 5.6916e-06, 1.2651e-05, 5.6880e-06, 2.6323e-06, 1.5837e-06,\n",
       "            3.0948e-05, 1.4712e-05, 1.5092e-05, 8.2588e-06, 1.1516e-06, 4.2019e-06,\n",
       "            1.5033e-05, 4.7569e-06, 2.1692e-05, 7.2133e-06, 5.6451e-06, 9.0499e-06,\n",
       "            2.9363e-06, 1.3655e-05, 1.7894e-05, 2.8041e-06, 3.6531e-05, 1.4386e-06,\n",
       "            1.5169e-05, 1.8118e-05, 7.4470e-06, 1.6316e-05, 3.5475e-06, 1.3253e-06,\n",
       "            1.7358e-05, 1.9834e-06, 1.1976e-05, 2.9347e-06, 1.3192e-05, 1.6317e-05,\n",
       "            2.3904e-05, 1.3575e-05, 2.7318e-05, 8.4718e-06, 1.7493e-05, 1.0501e-05,\n",
       "            1.7021e-05, 2.2825e-05, 6.5819e-06, 1.0599e-05, 9.1082e-07, 1.2901e-06,\n",
       "            1.0231e-05, 6.5567e-06, 2.1298e-05, 5.8965e-06],\n",
       "           [8.6510e-05, 4.2360e-05, 1.0734e-05, 5.0381e-05, 3.8127e-05, 1.4517e-05,\n",
       "            2.3021e-05, 4.8989e-06, 1.5641e-05, 1.1407e-05, 3.7586e-06, 2.7704e-05,\n",
       "            1.8901e-05, 1.7108e-05, 3.0170e-05, 1.7401e-05, 6.6530e-06, 6.9094e-06,\n",
       "            4.5644e-05, 1.5061e-05, 7.2205e-06, 4.3125e-05, 1.0504e-05, 9.8099e-06,\n",
       "            1.6987e-05, 2.4098e-05, 3.0101e-05, 2.0385e-05, 1.5277e-05, 2.6934e-06,\n",
       "            4.2517e-06, 2.8988e-05, 4.3313e-05, 1.3771e-05, 5.4821e-05, 5.9885e-06,\n",
       "            2.2062e-05, 6.5014e-05, 1.8910e-05, 2.3105e-05, 3.3418e-06, 3.5154e-06,\n",
       "            2.9997e-05, 8.3922e-06, 3.0515e-05, 4.3581e-06, 2.2536e-05, 1.0904e-05,\n",
       "            5.1211e-05, 3.5829e-05, 4.5385e-05, 1.7158e-05, 2.9103e-05, 3.5153e-05,\n",
       "            1.2168e-05, 3.7244e-05, 2.3661e-05, 1.6153e-05, 4.9337e-06, 1.5307e-06,\n",
       "            3.3279e-05, 2.5687e-05, 2.8996e-05, 1.3339e-05],\n",
       "           [1.2419e-04, 6.3741e-05, 1.8788e-05, 5.5578e-05, 2.1318e-05, 8.3967e-06,\n",
       "            1.8253e-05, 1.4120e-06, 2.1912e-05, 1.2593e-05, 3.2681e-06, 3.7419e-05,\n",
       "            1.4147e-05, 1.1581e-05, 4.3660e-05, 1.6591e-05, 4.2793e-06, 1.1086e-05,\n",
       "            7.0214e-05, 4.2859e-05, 1.5695e-05, 3.3325e-05, 1.3893e-05, 1.9097e-05,\n",
       "            1.5359e-05, 2.8868e-05, 1.2777e-05, 2.3423e-05, 1.5518e-05, 3.5831e-06,\n",
       "            3.2299e-06, 2.9326e-05, 5.1532e-05, 2.5615e-05, 5.3499e-05, 3.6309e-06,\n",
       "            5.0976e-05, 5.8949e-05, 2.9150e-05, 3.6764e-05, 7.0258e-06, 1.1779e-06,\n",
       "            3.8158e-05, 1.1231e-05, 5.5236e-05, 2.1153e-06, 7.3249e-06, 2.6839e-05,\n",
       "            5.5198e-05, 2.7797e-05, 4.1060e-05, 9.6205e-06, 6.7489e-05, 3.0650e-05,\n",
       "            3.1711e-05, 3.6492e-05, 4.9527e-05, 2.1167e-05, 7.7585e-06, 5.2158e-07,\n",
       "            4.3762e-05, 1.4482e-05, 2.1572e-05, 1.7588e-05],\n",
       "           [4.9833e-05, 8.1081e-05, 2.2563e-05, 5.7901e-05, 1.7282e-05, 1.5817e-05,\n",
       "            1.9380e-05, 1.1170e-05, 4.6141e-05, 6.8587e-06, 4.4157e-06, 7.2569e-06,\n",
       "            3.3003e-05, 1.7916e-05, 5.6786e-05, 3.1081e-05, 1.6602e-05, 2.3651e-06,\n",
       "            5.4023e-05, 6.7998e-05, 7.1243e-05, 1.0912e-05, 1.5300e-05, 1.0382e-05,\n",
       "            5.8051e-06, 2.5083e-05, 1.5919e-05, 1.0611e-05, 5.4949e-05, 3.0597e-05,\n",
       "            2.4026e-06, 1.4066e-05, 5.3089e-05, 3.5665e-05, 1.1542e-04, 4.9085e-05,\n",
       "            6.0829e-05, 1.6699e-05, 9.2678e-05, 8.2603e-06, 1.3211e-05, 3.3913e-05,\n",
       "            4.8299e-05, 1.8532e-05, 9.1148e-05, 2.5515e-05, 6.4825e-05, 3.6132e-05,\n",
       "            4.9634e-05, 1.3548e-05, 2.1156e-05, 1.0840e-05, 4.0756e-05, 5.1273e-05,\n",
       "            3.4481e-05, 3.3355e-05, 1.3846e-06, 6.1621e-06, 7.4872e-06, 2.5975e-06,\n",
       "            7.8994e-06, 1.4845e-06, 3.1512e-05, 1.3189e-05],\n",
       "           [1.1390e-04, 7.1880e-05, 2.9113e-05, 7.5379e-05, 2.8499e-05, 2.9750e-06,\n",
       "            1.0898e-05, 6.0467e-06, 3.1166e-05, 3.4819e-05, 4.3056e-06, 5.1883e-05,\n",
       "            3.2596e-05, 1.1290e-05, 4.9224e-05, 2.3437e-05, 8.8544e-06, 4.3955e-06,\n",
       "            6.8901e-05, 3.5592e-05, 1.3488e-05, 4.0676e-05, 9.7234e-06, 1.2929e-05,\n",
       "            7.6963e-06, 3.0595e-05, 1.0660e-05, 1.8879e-05, 1.8192e-05, 4.1062e-06,\n",
       "            2.0000e-06, 3.5375e-05, 4.7108e-05, 3.4331e-05, 6.4528e-05, 7.0322e-06,\n",
       "            6.3266e-05, 4.1288e-05, 4.5569e-05, 3.9396e-05, 4.7052e-06, 2.5501e-06,\n",
       "            3.3274e-05, 1.0905e-05, 4.9681e-05, 2.9645e-06, 1.7605e-05, 1.6415e-05,\n",
       "            4.6160e-05, 3.6746e-05, 3.8122e-05, 1.6939e-05, 5.7455e-05, 3.6766e-05,\n",
       "            3.5525e-05, 2.5926e-05, 3.6608e-05, 4.9207e-05, 1.0079e-05, 9.7533e-07,\n",
       "            4.2877e-05, 2.9698e-06, 3.5084e-05, 1.1032e-05],\n",
       "           [3.6534e-05, 1.8404e-05, 1.9556e-05, 5.3226e-05, 4.5432e-05, 4.7205e-06,\n",
       "            1.3719e-05, 1.6279e-05, 2.1841e-05, 3.0314e-05, 9.6776e-06, 3.1699e-05,\n",
       "            4.3911e-05, 1.5127e-05, 3.7604e-05, 1.8292e-05, 9.0989e-06, 2.6310e-06,\n",
       "            2.3380e-05, 1.3073e-05, 8.9891e-06, 3.6855e-05, 7.7595e-06, 2.8010e-06,\n",
       "            1.1302e-05, 2.3829e-05, 1.9207e-05, 2.8417e-05, 8.0424e-06, 1.6043e-06,\n",
       "            2.4056e-06, 3.3147e-05, 2.6476e-05, 2.4787e-05, 5.6689e-05, 1.5656e-05,\n",
       "            1.6329e-05, 1.9386e-05, 3.6319e-05, 2.4930e-05, 1.0582e-06, 7.8230e-06,\n",
       "            1.7939e-05, 8.2965e-06, 2.7621e-05, 7.0125e-06, 5.0219e-05, 4.6020e-06,\n",
       "            1.8487e-05, 3.7721e-05, 2.7877e-05, 2.6153e-05, 1.5168e-05, 2.8045e-05,\n",
       "            1.2529e-05, 2.2600e-05, 4.4392e-06, 3.9998e-05, 6.7753e-06, 1.7396e-06,\n",
       "            1.2504e-05, 4.0474e-06, 2.6927e-05, 3.1275e-06],\n",
       "           [6.8146e-05, 3.4281e-05, 1.3496e-05, 3.1558e-05, 8.8478e-06, 1.8360e-05,\n",
       "            7.2883e-06, 1.7747e-06, 2.8071e-05, 2.6684e-06, 1.6036e-06, 1.4367e-05,\n",
       "            5.5920e-06, 8.8420e-06, 2.5270e-05, 4.5196e-06, 8.9982e-06, 3.8987e-06,\n",
       "            3.7173e-05, 2.9832e-05, 2.0153e-05, 1.9116e-05, 5.4068e-06, 1.2175e-05,\n",
       "            1.5435e-05, 7.1824e-06, 7.5617e-06, 3.5109e-06, 1.7054e-05, 1.4297e-05,\n",
       "            2.1715e-06, 1.3301e-05, 2.5793e-05, 1.1017e-05, 4.8021e-05, 5.2972e-06,\n",
       "            1.9812e-05, 2.6969e-05, 2.3536e-05, 8.5350e-06, 1.4414e-05, 3.9234e-06,\n",
       "            2.6078e-05, 7.8104e-06, 2.5040e-05, 5.8312e-06, 8.9075e-06, 3.0976e-05,\n",
       "            4.5981e-05, 6.3346e-06, 2.2524e-05, 2.5119e-06, 2.6384e-05, 2.2696e-05,\n",
       "            1.7400e-05, 3.3235e-05, 3.0160e-06, 4.0949e-06, 2.2883e-06, 9.5008e-07,\n",
       "            1.1003e-05, 6.6816e-06, 1.1632e-05, 8.2262e-06],\n",
       "           [1.1432e-04, 3.9311e-05, 2.9702e-05, 8.3970e-05, 4.3404e-05, 1.2339e-05,\n",
       "            1.6187e-05, 1.1744e-05, 4.4412e-05, 3.4493e-05, 2.1706e-05, 7.5182e-05,\n",
       "            3.6173e-05, 1.7088e-05, 7.6076e-05, 3.6024e-05, 4.7200e-06, 3.3645e-06,\n",
       "            9.1037e-05, 2.9574e-05, 1.5821e-05, 4.4248e-05, 1.4661e-05, 1.2753e-05,\n",
       "            3.3554e-05, 4.3360e-05, 2.7201e-05, 3.3601e-05, 1.2509e-05, 1.5762e-05,\n",
       "            1.8916e-06, 6.2157e-05, 6.8952e-05, 2.9481e-05, 8.4906e-05, 1.4013e-05,\n",
       "            6.9290e-05, 7.4045e-05, 4.5647e-05, 3.4904e-05, 4.6671e-06, 3.2591e-06,\n",
       "            3.0806e-05, 1.3098e-05, 5.0724e-05, 4.2077e-06, 4.4970e-05, 1.5533e-05,\n",
       "            4.3865e-05, 4.3745e-05, 4.4059e-05, 1.6493e-05, 4.1882e-05, 1.9914e-05,\n",
       "            4.2978e-05, 5.3707e-05, 1.2800e-05, 4.2622e-05, 1.2096e-05, 1.2349e-06,\n",
       "            4.1921e-05, 6.5027e-06, 4.4112e-05, 7.7990e-06],\n",
       "           [9.8147e-05, 1.1075e-04, 2.7537e-05, 7.4853e-05, 1.7160e-05, 1.6008e-05,\n",
       "            1.8508e-05, 5.0231e-06, 6.7678e-05, 9.4767e-06, 3.2343e-06, 1.3958e-05,\n",
       "            2.4178e-05, 1.7649e-05, 7.9660e-05, 3.4757e-05, 2.0296e-05, 3.5528e-06,\n",
       "            8.3499e-05, 8.0167e-05, 7.1335e-05, 1.5594e-05, 1.5013e-05, 1.8391e-05,\n",
       "            7.6603e-06, 3.1256e-05, 1.0604e-05, 3.9708e-06, 6.0050e-05, 4.3857e-05,\n",
       "            1.9808e-06, 1.8590e-05, 7.5504e-05, 3.9316e-05, 1.3800e-04, 4.1753e-05,\n",
       "            8.0396e-05, 3.6724e-05, 1.1384e-04, 1.0899e-05, 1.7269e-05, 2.7879e-05,\n",
       "            6.0714e-05, 2.3653e-05, 9.0019e-05, 2.2846e-05, 4.6347e-05, 4.0673e-05,\n",
       "            6.6938e-05, 1.3123e-05, 3.1752e-05, 7.5280e-06, 5.6047e-05, 5.6404e-05,\n",
       "            4.2570e-05, 4.0475e-05, 7.5294e-06, 9.5502e-06, 1.3563e-05, 1.5530e-06,\n",
       "            2.0934e-05, 1.0651e-06, 3.5586e-05, 1.9532e-05]])},\n",
       "  2291054478680: {'step': 1878,\n",
       "   'exp_avg': tensor([ 0.0018,  0.0022,  0.0045, -0.0032, -0.0013,  0.0047, -0.0052, -0.0001,\n",
       "           -0.0017, -0.0017]),\n",
       "   'exp_avg_sq': tensor([8.7859e-05, 8.2680e-05, 1.3605e-04, 1.4579e-04, 1.8087e-04, 1.5158e-04,\n",
       "           9.3749e-05, 9.9653e-05, 1.8121e-04, 2.0129e-04])}},\n",
       " 'param_groups': [{'lr': 0.01,\n",
       "   'betas': (0.9, 0.999),\n",
       "   'eps': 1e-08,\n",
       "   'weight_decay': 0,\n",
       "   'amsgrad': False,\n",
       "   'params': [2291054341720,\n",
       "    2291054707264,\n",
       "    2291054481344,\n",
       "    2291054478536,\n",
       "    2291054480768,\n",
       "    2291054478680]}]}"
      ]
     },
     "execution_count": 77,
     "metadata": {},
     "output_type": "execute_result"
    }
   ],
   "source": [
    "optimizer.state_dict()"
   ]
  },
  {
   "cell_type": "code",
   "execution_count": 64,
   "metadata": {},
   "outputs": [
    {
     "data": {
      "text/plain": [
       "tensor([-2.2791, -0.2592,  0.4535,  0.8568, -1.3332, -2.5419, -5.4411,  9.3892,\n",
       "         0.0218,  1.9899], grad_fn=<SelectBackward>)"
      ]
     },
     "execution_count": 64,
     "metadata": {},
     "output_type": "execute_result"
    }
   ],
   "source": [
    "test_output[0]"
   ]
  },
  {
   "cell_type": "code",
   "execution_count": 67,
   "metadata": {},
   "outputs": [
    {
     "data": {
      "text/plain": [
       "array([7, 2, 1, ..., 3, 9, 5], dtype=int64)"
      ]
     },
     "execution_count": 67,
     "metadata": {},
     "output_type": "execute_result"
    }
   ],
   "source": [
    "torch.max(test_output, 1)[1].numpy().squeeze()"
   ]
  },
  {
   "cell_type": "code",
   "execution_count": 54,
   "metadata": {},
   "outputs": [
    {
     "data": {
      "text/plain": [
       "tensor([7, 2, 1,  ..., 3, 9, 5])"
      ]
     },
     "execution_count": 54,
     "metadata": {},
     "output_type": "execute_result"
    }
   ],
   "source": [
    "torch.max(test_output, 1)[1]"
   ]
  }
 ],
 "metadata": {
  "kernelspec": {
   "display_name": "Python 3",
   "language": "python",
   "name": "python3"
  },
  "language_info": {
   "codemirror_mode": {
    "name": "ipython",
    "version": 3
   },
   "file_extension": ".py",
   "mimetype": "text/x-python",
   "name": "python",
   "nbconvert_exporter": "python",
   "pygments_lexer": "ipython3",
   "version": "3.7.3"
  },
  "toc": {
   "base_numbering": 1,
   "nav_menu": {},
   "number_sections": true,
   "sideBar": true,
   "skip_h1_title": false,
   "title_cell": "Table of Contents",
   "title_sidebar": "Contents",
   "toc_cell": false,
   "toc_position": {},
   "toc_section_display": true,
   "toc_window_display": false
  }
 },
 "nbformat": 4,
 "nbformat_minor": 2
}
